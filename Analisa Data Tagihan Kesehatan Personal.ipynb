{
 "cells": [
  {
   "cell_type": "code",
   "execution_count": 1,
   "metadata": {},
   "outputs": [],
   "source": [
    "import pandas as pd\n",
    "import matplotlib.pyplot as plt\n",
    "import seaborn as sns\n",
    "plt.style.use('ggplot')\n",
    "from scipy import stats\n",
    "from statsmodels.stats.proportion import proportions_ztest"
   ]
  },
  {
   "cell_type": "code",
   "execution_count": 2,
   "metadata": {},
   "outputs": [
    {
     "data": {
      "text/html": [
       "<div>\n",
       "<style scoped>\n",
       "    .dataframe tbody tr th:only-of-type {\n",
       "        vertical-align: middle;\n",
       "    }\n",
       "\n",
       "    .dataframe tbody tr th {\n",
       "        vertical-align: top;\n",
       "    }\n",
       "\n",
       "    .dataframe thead th {\n",
       "        text-align: right;\n",
       "    }\n",
       "</style>\n",
       "<table border=\"1\" class=\"dataframe\">\n",
       "  <thead>\n",
       "    <tr style=\"text-align: right;\">\n",
       "      <th></th>\n",
       "      <th>age</th>\n",
       "      <th>sex</th>\n",
       "      <th>bmi</th>\n",
       "      <th>children</th>\n",
       "      <th>smoker</th>\n",
       "      <th>region</th>\n",
       "      <th>charges</th>\n",
       "    </tr>\n",
       "  </thead>\n",
       "  <tbody>\n",
       "    <tr>\n",
       "      <th>0</th>\n",
       "      <td>19</td>\n",
       "      <td>female</td>\n",
       "      <td>27.900</td>\n",
       "      <td>0</td>\n",
       "      <td>yes</td>\n",
       "      <td>southwest</td>\n",
       "      <td>16884.92400</td>\n",
       "    </tr>\n",
       "    <tr>\n",
       "      <th>1</th>\n",
       "      <td>18</td>\n",
       "      <td>male</td>\n",
       "      <td>33.770</td>\n",
       "      <td>1</td>\n",
       "      <td>no</td>\n",
       "      <td>southeast</td>\n",
       "      <td>1725.55230</td>\n",
       "    </tr>\n",
       "    <tr>\n",
       "      <th>2</th>\n",
       "      <td>28</td>\n",
       "      <td>male</td>\n",
       "      <td>33.000</td>\n",
       "      <td>3</td>\n",
       "      <td>no</td>\n",
       "      <td>southeast</td>\n",
       "      <td>4449.46200</td>\n",
       "    </tr>\n",
       "    <tr>\n",
       "      <th>3</th>\n",
       "      <td>33</td>\n",
       "      <td>male</td>\n",
       "      <td>22.705</td>\n",
       "      <td>0</td>\n",
       "      <td>no</td>\n",
       "      <td>northwest</td>\n",
       "      <td>21984.47061</td>\n",
       "    </tr>\n",
       "    <tr>\n",
       "      <th>4</th>\n",
       "      <td>32</td>\n",
       "      <td>male</td>\n",
       "      <td>28.880</td>\n",
       "      <td>0</td>\n",
       "      <td>no</td>\n",
       "      <td>northwest</td>\n",
       "      <td>3866.85520</td>\n",
       "    </tr>\n",
       "  </tbody>\n",
       "</table>\n",
       "</div>"
      ],
      "text/plain": [
       "   age     sex     bmi  children smoker     region      charges\n",
       "0   19  female  27.900         0    yes  southwest  16884.92400\n",
       "1   18    male  33.770         1     no  southeast   1725.55230\n",
       "2   28    male  33.000         3     no  southeast   4449.46200\n",
       "3   33    male  22.705         0     no  northwest  21984.47061\n",
       "4   32    male  28.880         0     no  northwest   3866.85520"
      ]
     },
     "execution_count": 2,
     "metadata": {},
     "output_type": "execute_result"
    }
   ],
   "source": [
    "df = pd.read_csv('insurance.csv')\n",
    "df.head()"
   ]
  },
  {
   "cell_type": "markdown",
   "metadata": {},
   "source": [
    "# Data Cleaning"
   ]
  },
  {
   "cell_type": "code",
   "execution_count": 3,
   "metadata": {},
   "outputs": [
    {
     "name": "stdout",
     "output_type": "stream",
     "text": [
      "<class 'pandas.core.frame.DataFrame'>\n",
      "RangeIndex: 1338 entries, 0 to 1337\n",
      "Data columns (total 7 columns):\n",
      " #   Column    Non-Null Count  Dtype  \n",
      "---  ------    --------------  -----  \n",
      " 0   age       1338 non-null   int64  \n",
      " 1   sex       1338 non-null   object \n",
      " 2   bmi       1338 non-null   float64\n",
      " 3   children  1338 non-null   int64  \n",
      " 4   smoker    1338 non-null   object \n",
      " 5   region    1338 non-null   object \n",
      " 6   charges   1338 non-null   float64\n",
      "dtypes: float64(2), int64(2), object(3)\n",
      "memory usage: 73.3+ KB\n"
     ]
    }
   ],
   "source": [
    "df.info()"
   ]
  },
  {
   "cell_type": "code",
   "execution_count": 4,
   "metadata": {},
   "outputs": [
    {
     "name": "stdout",
     "output_type": "stream",
     "text": [
      "Jumlah Missing Values pada Setiap Kolom:\n",
      "age         0\n",
      "sex         0\n",
      "bmi         0\n",
      "children    0\n",
      "smoker      0\n",
      "region      0\n",
      "charges     0\n",
      "dtype: int64\n"
     ]
    }
   ],
   "source": [
    "# Memeriksa missing values\n",
    "print(\"Jumlah Missing Values pada Setiap Kolom:\")\n",
    "print(df.isnull().sum())"
   ]
  },
  {
   "cell_type": "code",
   "execution_count": 5,
   "metadata": {},
   "outputs": [
    {
     "name": "stdout",
     "output_type": "stream",
     "text": [
      "\n",
      "Jumlah Duplikasi Data: 1\n"
     ]
    }
   ],
   "source": [
    "#Memeriksa duplikasi data\n",
    "print(\"\\nJumlah Duplikasi Data:\", df.duplicated().sum())"
   ]
  },
  {
   "cell_type": "code",
   "execution_count": 6,
   "metadata": {},
   "outputs": [
    {
     "name": "stdout",
     "output_type": "stream",
     "text": [
      "\n",
      "Jumlah Duplikasi Data: 0\n"
     ]
    }
   ],
   "source": [
    "# Menghapus duplikat dari DataFrame dan menyimpan hasil ke df_clean\n",
    "df_clean = df.drop_duplicates()\n",
    "\n",
    "# Memeriksa data setelah dilakukan penghapusan \n",
    "print(\"\\nJumlah Duplikasi Data:\", df_clean.duplicated().sum())"
   ]
  },
  {
   "cell_type": "code",
   "execution_count": 7,
   "metadata": {},
   "outputs": [
    {
     "data": {
      "text/html": [
       "<div>\n",
       "<style scoped>\n",
       "    .dataframe tbody tr th:only-of-type {\n",
       "        vertical-align: middle;\n",
       "    }\n",
       "\n",
       "    .dataframe tbody tr th {\n",
       "        vertical-align: top;\n",
       "    }\n",
       "\n",
       "    .dataframe thead th {\n",
       "        text-align: right;\n",
       "    }\n",
       "</style>\n",
       "<table border=\"1\" class=\"dataframe\">\n",
       "  <thead>\n",
       "    <tr style=\"text-align: right;\">\n",
       "      <th></th>\n",
       "      <th>age</th>\n",
       "      <th>sex</th>\n",
       "      <th>bmi</th>\n",
       "      <th>children</th>\n",
       "      <th>smoker</th>\n",
       "      <th>region</th>\n",
       "      <th>charges</th>\n",
       "    </tr>\n",
       "  </thead>\n",
       "  <tbody>\n",
       "    <tr>\n",
       "      <th>0</th>\n",
       "      <td>19</td>\n",
       "      <td>female</td>\n",
       "      <td>27.900</td>\n",
       "      <td>0</td>\n",
       "      <td>yes</td>\n",
       "      <td>southwest</td>\n",
       "      <td>16884.92400</td>\n",
       "    </tr>\n",
       "    <tr>\n",
       "      <th>1</th>\n",
       "      <td>18</td>\n",
       "      <td>male</td>\n",
       "      <td>33.770</td>\n",
       "      <td>1</td>\n",
       "      <td>no</td>\n",
       "      <td>southeast</td>\n",
       "      <td>1725.55230</td>\n",
       "    </tr>\n",
       "    <tr>\n",
       "      <th>2</th>\n",
       "      <td>28</td>\n",
       "      <td>male</td>\n",
       "      <td>33.000</td>\n",
       "      <td>3</td>\n",
       "      <td>no</td>\n",
       "      <td>southeast</td>\n",
       "      <td>4449.46200</td>\n",
       "    </tr>\n",
       "    <tr>\n",
       "      <th>3</th>\n",
       "      <td>33</td>\n",
       "      <td>male</td>\n",
       "      <td>22.705</td>\n",
       "      <td>0</td>\n",
       "      <td>no</td>\n",
       "      <td>northwest</td>\n",
       "      <td>21984.47061</td>\n",
       "    </tr>\n",
       "    <tr>\n",
       "      <th>4</th>\n",
       "      <td>32</td>\n",
       "      <td>male</td>\n",
       "      <td>28.880</td>\n",
       "      <td>0</td>\n",
       "      <td>no</td>\n",
       "      <td>northwest</td>\n",
       "      <td>3866.85520</td>\n",
       "    </tr>\n",
       "  </tbody>\n",
       "</table>\n",
       "</div>"
      ],
      "text/plain": [
       "   age     sex     bmi  children smoker     region      charges\n",
       "0   19  female  27.900         0    yes  southwest  16884.92400\n",
       "1   18    male  33.770         1     no  southeast   1725.55230\n",
       "2   28    male  33.000         3     no  southeast   4449.46200\n",
       "3   33    male  22.705         0     no  northwest  21984.47061\n",
       "4   32    male  28.880         0     no  northwest   3866.85520"
      ]
     },
     "execution_count": 7,
     "metadata": {},
     "output_type": "execute_result"
    }
   ],
   "source": [
    "df_clean.head()"
   ]
  },
  {
   "cell_type": "code",
   "execution_count": 8,
   "metadata": {},
   "outputs": [
    {
     "name": "stdout",
     "output_type": "stream",
     "text": [
      "<class 'pandas.core.frame.DataFrame'>\n",
      "Int64Index: 1337 entries, 0 to 1337\n",
      "Data columns (total 7 columns):\n",
      " #   Column    Non-Null Count  Dtype  \n",
      "---  ------    --------------  -----  \n",
      " 0   age       1337 non-null   int64  \n",
      " 1   sex       1337 non-null   object \n",
      " 2   bmi       1337 non-null   float64\n",
      " 3   children  1337 non-null   int64  \n",
      " 4   smoker    1337 non-null   object \n",
      " 5   region    1337 non-null   object \n",
      " 6   charges   1337 non-null   float64\n",
      "dtypes: float64(2), int64(2), object(3)\n",
      "memory usage: 83.6+ KB\n"
     ]
    }
   ],
   "source": [
    "df_clean.info()"
   ]
  },
  {
   "cell_type": "code",
   "execution_count": 9,
   "metadata": {},
   "outputs": [],
   "source": [
    "insurance = df_clean"
   ]
  },
  {
   "cell_type": "markdown",
   "metadata": {},
   "source": [
    "# 1. Analisa Descriptive Statistic"
   ]
  },
  {
   "cell_type": "code",
   "execution_count": 10,
   "metadata": {},
   "outputs": [
    {
     "data": {
      "text/html": [
       "<div>\n",
       "<style scoped>\n",
       "    .dataframe tbody tr th:only-of-type {\n",
       "        vertical-align: middle;\n",
       "    }\n",
       "\n",
       "    .dataframe tbody tr th {\n",
       "        vertical-align: top;\n",
       "    }\n",
       "\n",
       "    .dataframe thead th {\n",
       "        text-align: right;\n",
       "    }\n",
       "</style>\n",
       "<table border=\"1\" class=\"dataframe\">\n",
       "  <thead>\n",
       "    <tr style=\"text-align: right;\">\n",
       "      <th></th>\n",
       "      <th>age</th>\n",
       "      <th>bmi</th>\n",
       "      <th>children</th>\n",
       "      <th>charges</th>\n",
       "    </tr>\n",
       "  </thead>\n",
       "  <tbody>\n",
       "    <tr>\n",
       "      <th>count</th>\n",
       "      <td>1337.000000</td>\n",
       "      <td>1337.000000</td>\n",
       "      <td>1337.000000</td>\n",
       "      <td>1337.000000</td>\n",
       "    </tr>\n",
       "    <tr>\n",
       "      <th>mean</th>\n",
       "      <td>39.222139</td>\n",
       "      <td>30.663452</td>\n",
       "      <td>1.095737</td>\n",
       "      <td>13279.121487</td>\n",
       "    </tr>\n",
       "    <tr>\n",
       "      <th>std</th>\n",
       "      <td>14.044333</td>\n",
       "      <td>6.100468</td>\n",
       "      <td>1.205571</td>\n",
       "      <td>12110.359656</td>\n",
       "    </tr>\n",
       "    <tr>\n",
       "      <th>min</th>\n",
       "      <td>18.000000</td>\n",
       "      <td>15.960000</td>\n",
       "      <td>0.000000</td>\n",
       "      <td>1121.873900</td>\n",
       "    </tr>\n",
       "    <tr>\n",
       "      <th>25%</th>\n",
       "      <td>27.000000</td>\n",
       "      <td>26.290000</td>\n",
       "      <td>0.000000</td>\n",
       "      <td>4746.344000</td>\n",
       "    </tr>\n",
       "    <tr>\n",
       "      <th>50%</th>\n",
       "      <td>39.000000</td>\n",
       "      <td>30.400000</td>\n",
       "      <td>1.000000</td>\n",
       "      <td>9386.161300</td>\n",
       "    </tr>\n",
       "    <tr>\n",
       "      <th>75%</th>\n",
       "      <td>51.000000</td>\n",
       "      <td>34.700000</td>\n",
       "      <td>2.000000</td>\n",
       "      <td>16657.717450</td>\n",
       "    </tr>\n",
       "    <tr>\n",
       "      <th>max</th>\n",
       "      <td>64.000000</td>\n",
       "      <td>53.130000</td>\n",
       "      <td>5.000000</td>\n",
       "      <td>63770.428010</td>\n",
       "    </tr>\n",
       "  </tbody>\n",
       "</table>\n",
       "</div>"
      ],
      "text/plain": [
       "               age          bmi     children       charges\n",
       "count  1337.000000  1337.000000  1337.000000   1337.000000\n",
       "mean     39.222139    30.663452     1.095737  13279.121487\n",
       "std      14.044333     6.100468     1.205571  12110.359656\n",
       "min      18.000000    15.960000     0.000000   1121.873900\n",
       "25%      27.000000    26.290000     0.000000   4746.344000\n",
       "50%      39.000000    30.400000     1.000000   9386.161300\n",
       "75%      51.000000    34.700000     2.000000  16657.717450\n",
       "max      64.000000    53.130000     5.000000  63770.428010"
      ]
     },
     "execution_count": 10,
     "metadata": {},
     "output_type": "execute_result"
    }
   ],
   "source": [
    "insurance.describe()"
   ]
  },
  {
   "cell_type": "markdown",
   "metadata": {},
   "source": [
    "Berdasarkan statistik deskriptif pada dataset ini, kita dapat memahami beberapa informasi kunci mengenai variabel utama. Rata-rata usia peserta asuransi kesehatan adalah sekitar 39 tahun, dengan rentang usia antara 18 hingga 64 tahun. Sedangkan, indeks massa tubuh (BMI) memiliki rata-rata sekitar 30, menunjukkan adanya kecenderungan kelebihan berat badan dalam populasi ini.\n",
    "\n",
    "Jumlah anak dalam keluarga (children) memiliki rata-rata sekitar 1, dengan sebagian besar peserta asuransi (75%) memiliki 2 anak atau kurang. Sementara itu, tagihan kesehatan (charges) memiliki rata-rata sekitar $13,279.12, dengan rentang nilai yang sangat bervariasi, mulai dari $1,121 hingga $63,770. Variabilitas tagihan tersebut juga diperkuat oleh nilai standar deviasi yang cukup tinggi, yaitu sekitar $12,110.36.\n",
    "\n",
    "Pertama, perlu diperhatikan bahwa sebagian besar peserta asuransi (75%) tidak memiliki anak atau memiliki dua anak. Hal ini menunjukkan bahwa mayoritas peserta asuransi cenderung memiliki tanggungan keluarga yang tidak terlalu besar.\n",
    "\n",
    "Kedua, distribusi tagihan kesehatan sangat bervariasi, dengan nilai minimum sekitar $1,121 dan nilai maksimum mencapai $63,770. Hal ini menunjukkan adanya ketidakpastian besar dalam besarnya tagihan kesehatan yang mungkin diterima oleh peserta asuransi.\n",
    "\n",
    "Ketiga, melihat rata-rata BMI yang mendekati 30, dapat disimpulkan bahwa sebagian besar peserta asuransi cenderung memiliki indeks massa tubuh di atas nilai normal. Kelebihan berat badan dapat menjadi faktor risiko dalam penentuan besarnya tagihan kesehatan.\n",
    "\n",
    "Secara keseluruhan, informasi dari statistik deskriptif ini memberikan gambaran awal tentang karakteristik usia, BMI, jumlah anak, dan tagihan kesehatan peserta asuransi kesehatan."
   ]
  },
  {
   "cell_type": "markdown",
   "metadata": {},
   "source": [
    "### A. Berapa rata-rata umur secara keseluruhan dan rata-rata umur untuk perokok dan non-perokok?"
   ]
  },
  {
   "cell_type": "code",
   "execution_count": 11,
   "metadata": {},
   "outputs": [
    {
     "name": "stdout",
     "output_type": "stream",
     "text": [
      "Rata-rata umur pada data tersebut: 39.22\n"
     ]
    }
   ],
   "source": [
    "# Hitung rata-rata umur secara keseluruhan\n",
    "rata_umur_total = insurance['age'].mean()\n",
    "print(f\"Rata-rata umur pada data tersebut: {rata_umur_total:.2f}\")"
   ]
  },
  {
   "cell_type": "code",
   "execution_count": 12,
   "metadata": {},
   "outputs": [
    {
     "name": "stdout",
     "output_type": "stream",
     "text": [
      "Rata-rata umur perokok: 38.51\n",
      "Rata-rata umur non-perokok: 39.40\n",
      "Rata-rata umur non-perokok lebih tinggi.\n"
     ]
    }
   ],
   "source": [
    "#Hitung rata-rata umur untuk perokok dan non-perokok\n",
    "rata_umur_perokok = insurance[insurance['smoker'] == 'yes']['age'].mean()\n",
    "rata_umur_non_perokok = insurance[insurance['smoker'] == 'no']['age'].mean()\n",
    "\n",
    "print(f\"Rata-rata umur perokok: {rata_umur_perokok:.2f}\")\n",
    "print(f\"Rata-rata umur non-perokok: {rata_umur_non_perokok:.2f}\")\n",
    "if rata_umur_perokok == rata_umur_non_perokok:\n",
    "    print(\"Rata-rata umur perokok dan non-perokok sama.\")\n",
    "elif rata_umur_perokok > rata_umur_non_perokok:\n",
    "    print(\"Rata-rata umur perokok lebih tinggi.\")\n",
    "else:\n",
    "    print(\"Rata-rata umur non-perokok lebih tinggi.\")"
   ]
  },
  {
   "cell_type": "markdown",
   "metadata": {},
   "source": [
    "Dari analisis rata-rata umur pada dataset ini, dapat disimpulkan bahwa rata-rata umur secara keseluruhan untuk semua peserta asuransi adalah 39.22 tahun. Namun, ketika dibagi antara perokok dan non-perokok, terlihat perbedaan yang menarik. Rata-rata umur perokok adalah 38.51 tahun, sementara rata-rata umur non-perokok adalah 39.40 tahun.\n",
    "\n",
    "Perbedaan ini menunjukkan bahwa, secara umum, peserta asuransi yang tidak merokok memiliki rata-rata umur yang lebih tinggi dibandingkan dengan peserta yang merokok. Faktor-faktor lain, seperti kebiasaan merokok, dapat berkontribusi pada perbedaan ini. Meskipun perbedaan rata-rata umur tidak terlalu besar, dapat dianggap bahwa peserta asuransi non-perokok cenderung memiliki umur yang sedikit lebih tinggi dibandingkan dengan peserta yang merokok."
   ]
  },
  {
   "cell_type": "markdown",
   "metadata": {},
   "source": [
    "### B. Apakah rata rata umur perempuan dan laki-laki yang merokok sama?"
   ]
  },
  {
   "cell_type": "code",
   "execution_count": 13,
   "metadata": {},
   "outputs": [
    {
     "name": "stdout",
     "output_type": "stream",
     "text": [
      "Rata-rata umur perempuan yang merokok: 38.61\n",
      "Rata-rata umur laki-laki yang merokok: 38.45\n",
      "Rata-rata umur perempuan dan laki-laki yang merokok berbeda.\n"
     ]
    }
   ],
   "source": [
    "# Hitung rata-rata umur untuk perempuan yang merokok\n",
    "rata_umur_perempuan_rokok = insurance[(insurance['sex'] == 'female') & (insurance['smoker'] == 'yes')]['age'].mean()\n",
    "# Hitung rata-rata umur untuk laki-laki yang merokok\n",
    "rata_umur_laki_laki_rokok = insurance[(insurance['sex'] == 'male') & (insurance['smoker'] == 'yes')]['age'].mean()\n",
    "# Tampilkan hasil perbandingan\n",
    "print(f\"Rata-rata umur perempuan yang merokok: {rata_umur_perempuan_rokok:.2f}\")\n",
    "print(f\"Rata-rata umur laki-laki yang merokok: {rata_umur_laki_laki_rokok:.2f}\")\n",
    "# Evaluasi apakah rata-rata umur perempuan dan laki-laki yang merokok sama\n",
    "if rata_umur_perempuan_rokok == rata_umur_laki_laki_rokok:\n",
    "    print(\"Rata-rata umur perempuan dan laki-laki yang merokok sama.\")\n",
    "else:\n",
    "    print(\"Rata-rata umur perempuan dan laki-laki yang merokok berbeda.\")"
   ]
  },
  {
   "cell_type": "markdown",
   "metadata": {},
   "source": [
    "Berdasarkan analisis rata-rata umur antara perempuan dan laki-laki yang merokok, dapat disimpulkan bahwa terdapat perbedaan dalam rata-rata umur di antara kedua kelompok tersebut. Rata-rata umur perempuan yang merokok adalah 38.61 tahun, sedangkan rata-rata umur laki-laki yang merokok adalah 38.45 tahun.\n",
    "\n",
    "Perbedaan ini menunjukkan bahwa, pada kelompok yang merokok, rata-rata umur perempuan cenderung lebih tinggi dibandingkan dengan rata-rata umur laki-laki. Faktor-faktor tertentu, seperti kebiasaan merokok dan dampaknya terhadap umur, mungkin berkontribusi pada perbedaan ini. Meskipun perbedaan tersebut tidak signifikan, namun dapat dianggap bahwa rata-rata umur perempuan dan laki-laki yang merokok memiliki perbedaan yang dapat diperhatikan."
   ]
  },
  {
   "cell_type": "markdown",
   "metadata": {},
   "source": [
    "### C. Berapa rata-rata BMI untuk perokok dan non-perokok?"
   ]
  },
  {
   "cell_type": "code",
   "execution_count": 14,
   "metadata": {},
   "outputs": [
    {
     "name": "stdout",
     "output_type": "stream",
     "text": [
      "Rata-rata BMI perokok: 30.71\n",
      "Rata-rata BMI non-perokok: 30.65\n",
      "Rata-rata BMI perokok lebih tinggi.\n"
     ]
    }
   ],
   "source": [
    "# Hitung rata-rata BMI untuk perokok dan non-perokok\n",
    "rata_bmi_perokok = insurance[insurance['smoker'] == 'yes']['bmi'].mean()\n",
    "rata_bmi_non_perokok = insurance[insurance['smoker'] == 'no']['bmi'].mean()\n",
    "\n",
    "print(f\"Rata-rata BMI perokok: {rata_bmi_perokok:.2f}\")\n",
    "print(f\"Rata-rata BMI non-perokok: {rata_bmi_non_perokok:.2f}\")\n",
    "if rata_bmi_perokok == rata_bmi_non_perokok:\n",
    "    print(\"Rata-rata BMI perokok dan non-perokok sama.\")\n",
    "elif rata_bmi_perokok > rata_bmi_non_perokok:\n",
    "    print(\"Rata-rata BMI perokok lebih tinggi.\")\n",
    "else:\n",
    "    print(\"Rata-rata BMI non-perokok lebih tinggi.\")"
   ]
  },
  {
   "cell_type": "markdown",
   "metadata": {},
   "source": [
    "Berdasarkan analisis rata-rata BMI antara perokok dan non-perokok, dapat disimpulkan bahwa terdapat perbedaan dalam rata-rata BMI di antara kedua kelompok tersebut. Rata-rata BMI perokok adalah 30.71, sementara rata-rata BMI non-perokok adalah 30.65.\n",
    "\n",
    "Perbedaan ini menunjukkan bahwa, pada kelompok perokok, rata-rata BMI cenderung lebih tinggi dibandingkan dengan rata-rata BMI non-perokok. Faktor-faktor tertentu, seperti gaya hidup dan kebiasaan merokok, mungkin berkontribusi pada perbedaan ini. Meskipun perbedaan tersebut tidak signifikan, namun dapat dianggap bahwa rata-rata BMI perokok dan non-perokok memiliki perbedaan yang dapat diperhatikan."
   ]
  },
  {
   "cell_type": "markdown",
   "metadata": {},
   "source": [
    "### D. Berapa variansi tagihan kesehatan untuk perokok dan non-perokok?"
   ]
  },
  {
   "cell_type": "code",
   "execution_count": 15,
   "metadata": {},
   "outputs": [
    {
     "name": "stdout",
     "output_type": "stream",
     "text": [
      "Variansi tagihan kesehatan perokok: 133207311.21\n",
      "Variansi tagihan kesehatan non-perokok: 35915734.97\n",
      "Variansi tagihan kesehatan perokok lebih tinggi.\n"
     ]
    }
   ],
   "source": [
    "# Hitung variansi tagihan kesehatan untuk perokok dan non-perokok\n",
    "variansi_tagihan_perokok = insurance[insurance['smoker'] == 'yes']['charges'].var()\n",
    "variansi_tagihan_non_perokok = insurance[insurance['smoker'] == 'no']['charges'].var()\n",
    "\n",
    "print(f\"Variansi tagihan kesehatan perokok: {variansi_tagihan_perokok:.2f}\")\n",
    "print(f\"Variansi tagihan kesehatan non-perokok: {variansi_tagihan_non_perokok:.2f}\")\n",
    "if variansi_tagihan_perokok == variansi_tagihan_non_perokok:\n",
    "    print(\"Variansi tagihan kesehatan perokok dan non-perokok sama.\")\n",
    "elif variansi_tagihan_perokok > variansi_tagihan_non_perokok:\n",
    "    print(\"Variansi tagihan kesehatan perokok lebih tinggi.\")\n",
    "else:\n",
    "    print(\"Variansi tagihan kesehatan non-perokok lebih tinggi.\")"
   ]
  },
  {
   "cell_type": "markdown",
   "metadata": {},
   "source": [
    "\n",
    "Berdasarkan analisis variansi tagihan kesehatan antara perokok dan non-perokok, ditemukan bahwa variansi tagihan kesehatan non-perokok lebih tinggi dibandingkan dengan variansi tagihan kesehatan perokok. Secara spesifik, variansi tagihan kesehatan perokok adalah $133,207,311.21, sementara variansi tagihan kesehatan non-perokok adalah $35,915,734.97.\n",
    "\n",
    "Perbedaan ini menunjukkan bahwa ada lebih banyak variasi dalam tagihan kesehatan pada kelompok non-perokok dibandingkan dengan perokok. Hal ini dapat disebabkan oleh faktor-faktor yang mempengaruhi tagihan kesehatan pada kelompok non-perokok, seperti kondisi kesehatan umum, riwayat penyakit, atau kebiasaan hidup lainnya. Meskipun perbedaan variansi tersebut tidak selalu menunjukkan signifikansi klinis, namun dapat menjadi indikasi variasi yang lebih besar dalam biaya kesehatan pada kelompok non-perokok."
   ]
  },
  {
   "cell_type": "markdown",
   "metadata": {},
   "source": [
    "### E. Berapa Rata-rata tagihan kesehatan untuk perokok dengan BMI di atas 25 dan non-perokok dengan BMI di atas 25?"
   ]
  },
  {
   "cell_type": "code",
   "execution_count": 16,
   "metadata": {},
   "outputs": [
    {
     "name": "stdout",
     "output_type": "stream",
     "text": [
      "Rata-rata tagihan kesehatan perokok dengan BMI di atas 25: 35116.91\n",
      "Rata-rata tagihan kesehatan non-perokok dengan BMI di atas 25: 8637.61\n",
      "Rata-rata tagihan kesehatan perokok dengan BMI di atas 25 lebih tinggi.\n"
     ]
    }
   ],
   "source": [
    "# Rata-rata tagihan kesehatan untuk perokok dengan BMI di atas 25 dan non-perokok dengan BMI di atas 25\n",
    "rata_tagihan_perokok_berat_badan = insurance[(insurance['smoker'] == 'yes') & (insurance['bmi'] > 25)]['charges'].mean()\n",
    "rata_tagihan_non_perokok_berat_badan = insurance[(insurance['smoker'] == 'no') & (insurance['bmi'] > 25)]['charges'].mean()\n",
    "\n",
    "print(f\"Rata-rata tagihan kesehatan perokok dengan BMI di atas 25: {rata_tagihan_perokok_berat_badan:.2f}\")\n",
    "print(f\"Rata-rata tagihan kesehatan non-perokok dengan BMI di atas 25: {rata_tagihan_non_perokok_berat_badan:.2f}\")\n",
    "if rata_tagihan_perokok_berat_badan == rata_tagihan_non_perokok_berat_badan:\n",
    "    print(\"Rata-rata tagihan kesehatan perokok dan non-perokok dengan BMI di atas 25 sama.\")\n",
    "elif rata_tagihan_perokok_berat_badan > rata_tagihan_non_perokok_berat_badan:\n",
    "    print(\"Rata-rata tagihan kesehatan perokok dengan BMI di atas 25 lebih tinggi.\")\n",
    "else:\n",
    "    print(\"Rata-rata tagihan kesehatan non-perokok dengan BMI di atas 25 lebih tinggi.\")"
   ]
  },
  {
   "cell_type": "markdown",
   "metadata": {},
   "source": [
    "\n",
    "Berdasarkan analisis rata-rata tagihan kesehatan untuk dua kelompok yang dibagi berdasarkan kebiasaan merokok dan BMI, dapat disimpulkan bahwa terdapat perbedaan yang signifikan dalam biaya kesehatan antara kelompok perokok dan non-perokok dengan BMI di atas 25. Rata-rata tagihan kesehatan perokok dengan BMI di atas 25 mencapai $35,116.91, sementara rata-rata tagihan kesehatan non-perokok dengan BMI di atas 25 hanya sekitar $8,637.61.\n",
    "\n",
    "Perbedaan ini memberikan gambaran bahwa kebiasaan merokok dan kelebihan berat badan, terutama dengan BMI di atas 25, dapat secara signifikan mempengaruhi besarnya tagihan kesehatan. Kelompok perokok dengan BMI di atas 25 cenderung mengalami beban biaya kesehatan yang lebih tinggi, mungkin karena adanya risiko kesehatan tambahan yang terkait dengan kebiasaan merokok dan kondisi kelebihan berat badan."
   ]
  },
  {
   "cell_type": "code",
   "execution_count": null,
   "metadata": {},
   "outputs": [],
   "source": []
  },
  {
   "cell_type": "markdown",
   "metadata": {},
   "source": [
    "# 2. Analisa Variabel Diskrit"
   ]
  },
  {
   "cell_type": "markdown",
   "metadata": {},
   "source": [
    "### A. Perbandingan gender pada tagihan paling tinggi"
   ]
  },
  {
   "cell_type": "code",
   "execution_count": 32,
   "metadata": {},
   "outputs": [
    {
     "name": "stdout",
     "output_type": "stream",
     "text": [
      "Table untuk Tagihan per Gender:\n",
      "                max          mean     median           std\n",
      "            charges       charges    charges       charges\n",
      "sex                                                       \n",
      "female  63770.42801  12569.578844  9412.9625  11128.703801\n",
      "male    62592.87309  13974.998864  9377.9047  12971.958663\n",
      "\n",
      "Gender yang memiliki rata-rata tagihan paling tinggi: male\n"
     ]
    }
   ],
   "source": [
    "pivot_table_result = insurance.pivot_table(values=\"charges\", index=\"sex\", aggfunc=[\"max\", \"mean\", \"median\", \"std\"])\n",
    "print(\"Table untuk Tagihan per Gender:\")\n",
    "print(pivot_table_result)\n",
    "\n",
    "# Gender yang memiliki tagihan paling tinggi\n",
    "tagihan_paling_tinggi = pivot_table_result[\"mean\"][\"charges\"].idxmax()\n",
    "print(f\"\\nGender yang memiliki rata-rata tagihan paling tinggi: {tagihan_paling_tinggi}\")"
   ]
  },
  {
   "cell_type": "code",
   "execution_count": 18,
   "metadata": {},
   "outputs": [
    {
     "data": {
      "text/plain": [
       "<Axes: xlabel='charges', ylabel='Count'>"
      ]
     },
     "execution_count": 18,
     "metadata": {},
     "output_type": "execute_result"
    },
    {
     "data": {
      "image/png": "[encoded data removed]",
      "text/plain": [
       "<Figure size 640x480 with 1 Axes>"
      ]
     },
     "metadata": {},
     "output_type": "display_data"
    }
   ],
   "source": [
    "sns.histplot(insurance, x=\"charges\", kde=True, hue=\"sex\")"
   ]
  },
  {
   "cell_type": "markdown",
   "metadata": {},
   "source": [
    "\n",
    "Berdasarkan grafik dan tabel, tampak bahwa tagihan untuk perempuan memiliki nilai tertinggi (maksimum) sebesar $34,439.86, sedangkan maksimum untuk pria adalah $34,472.84. Secara median, nilai tagihan perempuan juga lebih tinggi, yakni sekitar $8,538.29, dibandingkan dengan median pria sekitar $8,162.72. Meskipun demikian, secara rata-rata nilai tagihan pria lebih besar, yaitu sebesar $9,789.09, dibandingkan dengan rata-rata tagihan perempuan sebesar $10,101.52. Hal ini dapat disebabkan oleh adanya sebaran pada tagihan antara $30,000 hingga $50,000 yang memiliki frekuensi lebih tinggi pada data pria. Meskipun nilai maksimum tagihan lebih tinggi untuk perempuan, analisis rata-rata dan median menunjukkan bahwa secara umum tagihan cenderung lebih tinggi untuk perempuan.\n"
   ]
  },
  {
   "cell_type": "markdown",
   "metadata": {},
   "source": [
    "### B. Bagaimana Distribusi peluang tagihan di tiap-tiap region?"
   ]
  },
  {
   "cell_type": "code",
   "execution_count": 19,
   "metadata": {},
   "outputs": [
    {
     "name": "stdout",
     "output_type": "stream",
     "text": [
      "Pivot Table untuk Tagihan per Region:\n",
      "                   mean        median\n",
      "                charges       charges\n",
      "region                               \n",
      "northeast  13406.384516  10057.652025\n",
      "northwest  12450.840844   8976.977250\n",
      "southeast  14735.411438   9294.131950\n",
      "southwest  12346.937377   8798.593000\n"
     ]
    },
    {
     "data": {
      "image/png": "[encoded data removed]",
      "text/plain": [
       "<Figure size 1500x1000 with 4 Axes>"
      ]
     },
     "metadata": {},
     "output_type": "display_data"
    }
   ],
   "source": [
    "# Distribusi peluang tagihan di tiap-tiap region\n",
    "pivot_table_region = insurance.pivot_table(values=\"charges\", index=\"region\", aggfunc=[\"mean\", \"median\"])\n",
    "print(\"Pivot Table untuk Tagihan per Region:\")\n",
    "print(pivot_table_region)\n",
    "\n",
    "regions = sorted(list(insurance[\"region\"].unique()))\n",
    "color = [\"skyblue\", \"olive\", \"red\", \"green\"]\n",
    "fig, axes = plt.subplots(2, 2, figsize=(15, 10))\n",
    "\n",
    "for i in range(2):\n",
    "    for j in range(2):\n",
    "        region_data = insurance[insurance[\"region\"] == regions[i * 2 + j]]\n",
    "        sns.histplot(region_data, x=\"charges\", kde=True, color=color[i * 2 + j], ax=axes[i, j]).set(title=regions[i * 2 + j])\n",
    "\n",
    "plt.show()"
   ]
  },
  {
   "cell_type": "markdown",
   "metadata": {},
   "source": [
    "\n",
    "Kesimpulan:\n",
    "\n",
    "\n",
    "Dari data tersebut, terlihat bahwa keempat region memiliki pola data yang serupa, dengan dua puncak yang terlihat di sekitar daerah  < $10,000 dan puncak kedua di sekitar  $40,000. Selain itu, terdapat perbedaan dalam nilai median antara region-region tersebut. Region northeast memiliki nilai median yang lebih besar dibandingkan dengan ke-3 region lainnya. Hal ini menunjukkan bahwa, meskipun memiliki dua pola data serupa, region northeast memiliki kecenderungan untuk memiliki tagihan kesehatan yang lebih tinggi secara keseluruhan. Sebaliknya, region southwest memiliki nilai median terendah, menunjukkan kecenderungan tagihan kesehatan yang lebih rendah dibandingkan dengan region lainnya. Kesimpulan ini memberikan wawasan tentang pola dan perbedaan tagihan kesehatan antar region"
   ]
  },
  {
   "cell_type": "markdown",
   "metadata": {},
   "source": [
    "### C. Apakah setiap region memiliki proporsi data banyak orang yang sama?"
   ]
  },
  {
   "cell_type": "code",
   "execution_count": 20,
   "metadata": {},
   "outputs": [
    {
     "name": "stdout",
     "output_type": "stream",
     "text": [
      "\n",
      "Proporsi data per region:\n",
      "southeast    0.272251\n",
      "southwest    0.243082\n",
      "northwest    0.242334\n",
      "northeast    0.242334\n",
      "Name: region, dtype: float64\n"
     ]
    }
   ],
   "source": [
    "# Region yang memiliki proporsi data banyak orang yang sama\n",
    "proporsi_data_per_region = insurance['region'].value_counts(normalize=True)\n",
    "print(\"\\nProporsi data per region:\")\n",
    "print(proporsi_data_per_region)"
   ]
  },
  {
   "cell_type": "markdown",
   "metadata": {},
   "source": [
    "\n",
    "Kesimpulan:\n",
    "\n",
    "Proporsi pemegang asuransi kesehatan per region menunjukkan variasi yang cukup kecil. Region southeast memiliki proporsi tertinggi sekitar 27.23%, diikuti oleh southwest dengan proporsi sekitar 24.31%, northwest dan northeast masing-masing sekitar 24.23%. Meskipun terdapat perbedaan kecil dalam proporsi antar region, distribusi data per region masih dapat dianggap cukup seimbang. Tidak ada ketidakseimbangan yang signifikan pada variabel region, sehingga data dapat dianggap cukup representatif untuk setiap region"
   ]
  },
  {
   "cell_type": "markdown",
   "metadata": {},
   "source": [
    "### D. Mana yang lebih tinggi proporsi perokok atau non perokok?"
   ]
  },
  {
   "cell_type": "code",
   "execution_count": 21,
   "metadata": {},
   "outputs": [
    {
     "name": "stdout",
     "output_type": "stream",
     "text": [
      "\n",
      "Proporsi perokok: 0.20\n",
      "Proporsi non-perokok: 0.80\n",
      "Proporsi non-perokok lebih tinggi.\n"
     ]
    }
   ],
   "source": [
    "# proporsi perokok atau non-perokok?\n",
    "proporsi_perokok = insurance['smoker'].value_counts(normalize=True).loc['yes']\n",
    "proporsi_non_perokok = insurance['smoker'].value_counts(normalize=True).loc['no']\n",
    "print(f\"\\nProporsi perokok: {proporsi_perokok:.2f}\")\n",
    "print(f\"Proporsi non-perokok: {proporsi_non_perokok:.2f}\")\n",
    "if proporsi_perokok > proporsi_non_perokok:\n",
    "    print(\"Proporsi perokok lebih tinggi.\")\n",
    "else:\n",
    "    print(\"Proporsi non-perokok lebih tinggi.\")"
   ]
  },
  {
   "cell_type": "markdown",
   "metadata": {},
   "source": [
    "\n",
    "Kesimpulan:\n",
    "\n",
    "Berdasarkan proporsi perokok dan non-perokok, dapat disimpulkan bahwa proporsi non-perokok (80%) lebih tinggi dibandingkan dengan proporsi perokok (20%). Proporsi non-perokok mendominasi, menunjukkan bahwa jumlah individu yang tidak merokok lebih banyak daripada yang merokok dalam dataset ini. Hal ini mencerminkan kecenderungan bahwa sebagian besar individu dalam data asuransi ini adalah non-perokok."
   ]
  },
  {
   "cell_type": "markdown",
   "metadata": {},
   "source": [
    "### E. Berapa peluang seseorang tersebut adalah perempuan diketahui dia adalah perokok?"
   ]
  },
  {
   "cell_type": "code",
   "execution_count": 22,
   "metadata": {},
   "outputs": [
    {
     "name": "stdout",
     "output_type": "stream",
     "text": [
      "smoker   no  yes   Peluang\n",
      "sex                       \n",
      "female  547  115  0.173716\n",
      "male    516  159  0.235556\n",
      "\n",
      "Peluang seseorang perempuan adalah perokok: 17.37%\n",
      "Peluang seseorang laki-laki adalah perokok: 23.56%\n"
     ]
    }
   ],
   "source": [
    "# Peluang seseorang perempuan diketahui dia adalah perokok\n",
    "table_gender_smoker = insurance.groupby(['sex', 'smoker']).size().unstack(fill_value=0)\n",
    "table_gender_smoker['Peluang'] = table_gender_smoker['yes'] / (table_gender_smoker['yes'] + table_gender_smoker['no'])\n",
    "print(table_gender_smoker)\n",
    "\n",
    "# Menampilkan peluang seseorang perempuan adalah perokok\n",
    "peluang_perempuan_perokok = table_gender_smoker.loc['female', 'Peluang']\n",
    "print(f\"\\nPeluang seseorang perempuan adalah perokok: {peluang_perempuan_perokok:.2%}\")\n",
    "\n",
    "# Menampilkan peluang seseorang laki-laki adalah perokok\n",
    "peluang_laki_laki_perokok = table_gender_smoker.loc['male', 'Peluang']\n",
    "print(f\"Peluang seseorang laki-laki adalah perokok: {peluang_laki_laki_perokok:.2%}\")"
   ]
  },
  {
   "cell_type": "markdown",
   "metadata": {},
   "source": [
    "\n",
    "Kesimpulan:\n",
    "\n",
    "Dari hasil tabel peluang seseorang menjadi perokok berdasarkan jenis kelamin, dapat disimpulkan bahwa peluang seseorang perempuan menjadi perokok sekitar 17.37%, sedangkan peluang seseorang laki-laki menjadi perokok sekitar 23.56%. Meskipun perbedaannya tidak signifikan, terlihat bahwa proporsi perokok sedikit lebih tinggi pada kelompok laki-laki dibandingkan dengan kelompok perempuan dalam dataset ini.\n",
    "\n",
    "Hal ini menunjukkan bahwa dalam dataset asuransi ini, tidak ada perbedaan yang signifikan dalam kecenderungan merokok antara pria dan wanita. Meskipun demikian, penting untuk diingat bahwa hasil ini hanya mencerminkan pola dalam data yang tersedia dan mungkin tidak mencakup semua faktor yang mempengaruhi kebiasaan merokok.\n"
   ]
  },
  {
   "cell_type": "markdown",
   "metadata": {},
   "source": [
    "# 3. Analisa Variabel Kontinu"
   ]
  },
  {
   "cell_type": "markdown",
   "metadata": {},
   "source": [
    "1. Mana yang lebih mungkin terjadi<br>\n",
    "    a. Seseorang dengan BMI di atas 25 mendapatkan tagihan kesehatan di atas 16.7k (16,700) atau,<br>\n",
    "    b. Seseorang dengan BMI di bawah 25 mendapatkan tagihan kesehatan di atas 16.7k.<br>"
   ]
  },
  {
   "cell_type": "code",
   "execution_count": 23,
   "metadata": {},
   "outputs": [
    {
     "name": "stdout",
     "output_type": "stream",
     "text": [
      "P(bmi > 25 & chg > 16.7k)\n",
      " - Jumlah data kejadian A: 283\n",
      " - Peluang kejadian A: 0.2117\n"
     ]
    }
   ],
   "source": [
    "# P(bmi > 25 & chg > 16.7k)\n",
    "bmi_atas_25_tag_16k = insurance[(insurance.bmi > 25) & (insurance.charges > 16700)]\n",
    "proporsi_kejadian_a = len(bmi_atas_25_tag_16k) / len(insurance)\n",
    "print(\"P(bmi > 25 & chg > 16.7k)\")\n",
    "print(\" - Jumlah data kejadian A:\", len(bmi_atas_25_tag_16k))\n",
    "print(\" - Peluang kejadian A:\", round(proporsi_kejadian_a, 4))"
   ]
  },
  {
   "cell_type": "code",
   "execution_count": 24,
   "metadata": {},
   "outputs": [
    {
     "name": "stdout",
     "output_type": "stream",
     "text": [
      "P(bmi < 25 & chg > 16.7k): \n",
      " - Jumlah data kejadian B: 51\n",
      " - Peluang kejadian B: 0.0381\n"
     ]
    }
   ],
   "source": [
    "# P(bmi < 25 & chg > 16.7k)\n",
    "bmi_bawah_25_tag_16k = insurance[(insurance.bmi < 25) & (insurance.charges > 16700)]\n",
    "proporsi_kejadian_b = len(bmi_bawah_25_tag_16k) / len(insurance)\n",
    "print(\"P(bmi < 25 & chg > 16.7k): \")\n",
    "print(\" - Jumlah data kejadian B:\", len(bmi_bawah_25_tag_16k))\n",
    "print(\" - Peluang kejadian B:\", round(proporsi_kejadian_b, 4))"
   ]
  },
  {
   "cell_type": "markdown",
   "metadata": {},
   "source": [
    "Untuk kejadian A (seseorang dengan BMI di atas 25 mendapatkan tagihan kesehatan di atas 16.7k):\n",
    "\n",
    "- Jumlah data kejadian A: 283\n",
    "- Peluang kejadian A: 0.2117\n",
    "\n",
    "Untuk kejadian B (seseorang dengan BMI di bawah 25 mendapatkan tagihan kesehatan di atas 16.7k):\n",
    "\n",
    "- Jumlah data kejadian B: 51\n",
    "- Peluang kejadian B: 0.0381\n",
    "\n",
    "Kesimpulannya adalah:\n",
    "\n",
    "Kejadian A memiliki peluang yang lebih tinggi (0.2117) dibandingkan dengan kejadian B (0.0381).\n",
    "Ini menunjukkan bahwa seseorang dengan BMI di atas 25 lebih mungkin mendapatkan tagihan kesehatan di atas 16.7k dibandingkan dengan orang dengan BMI di bawah 25."
   ]
  },
  {
   "cell_type": "markdown",
   "metadata": {},
   "source": [
    "2. Mana yang lebih mungkin terjadi <br>\n",
    "    a. Seseorang perokok dengan BMI diatas 25 mendapatkan tagihan kesehatan diatas 16.7k atau,<br>\n",
    "    b. Seseorang non perokok dengan BMI diatas 25 mendapatkan tagihan kesehatan diatas 16.7k.<br>"
   ]
  },
  {
   "cell_type": "code",
   "execution_count": 25,
   "metadata": {},
   "outputs": [
    {
     "name": "stdout",
     "output_type": "stream",
     "text": [
      "P(bmi > 25 & chg > 16.7k | perokok): \n",
      " - Jumlah data kejadian A (perokok): 215\n",
      " - Peluang kejadian A (perokok): 0.7847\n"
     ]
    }
   ],
   "source": [
    "# P(bmi > 25 & chg > 16.7k | perokok)\n",
    "bmi_perokok_atas_25_tag_16k = insurance[(insurance.smoker == 'yes') & (insurance.bmi > 25) & (insurance.charges > 16700)]\n",
    "proporsi_kejadian_a_perokok = len(bmi_perokok_atas_25_tag_16k) / len(insurance[insurance.smoker == 'yes'])\n",
    "print(\"P(bmi > 25 & chg > 16.7k | perokok): \")\n",
    "print(\" - Jumlah data kejadian A (perokok):\", len(bmi_perokok_atas_25_tag_16k))\n",
    "print(\" - Peluang kejadian A (perokok):\", round(proporsi_kejadian_a_perokok, 4))"
   ]
  },
  {
   "cell_type": "code",
   "execution_count": 26,
   "metadata": {},
   "outputs": [
    {
     "name": "stdout",
     "output_type": "stream",
     "text": [
      "P(bmi < 25 & chg > 16.7k | non-perokok): \n",
      " - Jumlah data kejadian B (non-perokok): 12\n",
      " - Peluang kejadian B (non-perokok): 0.0113\n"
     ]
    }
   ],
   "source": [
    "# P(bmi < 25 & chg > 16.7k | non-perokok)\n",
    "bmi_non_perokok_bawah_25_tag_16k = insurance[(insurance.smoker == 'no') & (insurance.bmi < 25) & (insurance.charges > 16700)]\n",
    "proporsi_kejadian_b_non_perokok = len(bmi_non_perokok_bawah_25_tag_16k) / len(insurance[insurance.smoker == 'no'])\n",
    "print(\"P(bmi < 25 & chg > 16.7k | non-perokok): \")\n",
    "print(\" - Jumlah data kejadian B (non-perokok):\", len(bmi_non_perokok_bawah_25_tag_16k))\n",
    "print(\" - Peluang kejadian B (non-perokok):\", round(proporsi_kejadian_b_non_perokok, 4))"
   ]
  },
  {
   "cell_type": "markdown",
   "metadata": {},
   "source": [
    "\n",
    "Untuk kejadian A (seseorang perokok dengan BMI di atas 25 mendapatkan tagihan kesehatan di atas 16.7k):\n",
    "\n",
    "- Jumlah data kejadian A (perokok): 215\n",
    "- Peluang kejadian A (perokok): 0.7847\n",
    "\n",
    "Untuk kejadian B (seseorang non-perokok dengan BMI di bawah 25 mendapatkan tagihan kesehatan di atas 16.7k):\n",
    "\n",
    "- Jumlah data kejadian B (non-perokok): 12\n",
    "- Peluang kejadian B (non-perokok): 0.0113\n",
    "\n",
    "Kesimpulannya adalah:\n",
    "\n",
    "- Kejadian A (perokok dengan BMI di atas 25 mendapatkan tagihan kesehatan di atas 16.7k) memiliki peluang yang lebih tinggi (0.7847) dibandingkan dengan kejadian B (non-perokok dengan BMI di bawah 25 mendapatkan tagihan kesehatan di atas 16.7k) yang memiliki peluang yang lebih rendah (0.0113).\n",
    "- Ini menunjukkan bahwa di antara perokok, peluang seseorang dengan BMI di atas 25 membayar tagihan kesehatan di atas 16.7k jauh lebih tinggi dibandingkan dengan peluang seseorang non-perokok dengan BMI di bawah 25."
   ]
  },
  {
   "cell_type": "markdown",
   "metadata": {},
   "source": [
    "# 4. Analisa Korelasi Variabel"
   ]
  },
  {
   "cell_type": "code",
   "execution_count": 27,
   "metadata": {},
   "outputs": [
    {
     "name": "stdout",
     "output_type": "stream",
     "text": [
      "\n",
      "Korelasi Pearson antara tagihan kesehatan dan variabel lainnya:\n",
      "age         0.298308\n",
      "sex         0.058044\n",
      "bmi         0.198401\n",
      "children    0.067389\n",
      "smoker      0.787234\n",
      "region     -0.006547\n",
      "charges     1.000000\n",
      "Name: charges, dtype: float64\n",
      "\n",
      "Korelasi Kendall antara tagihan kesehatan dan variabel lainnya:\n",
      "age         0.474688\n",
      "sex         0.008779\n",
      "bmi         0.082702\n",
      "children    0.102232\n",
      "smoker      0.542039\n",
      "region     -0.032544\n",
      "charges     1.000000\n",
      "Name: charges, dtype: float64\n"
     ]
    }
   ],
   "source": [
    "# Mengonversi variabel kategorik menjadi numerik\n",
    "insurance_numeric = insurance.copy()\n",
    "insurance_numeric['sex'] = insurance_numeric['sex'].map({'female': 0, 'male': 1})\n",
    "insurance_numeric['smoker'] = insurance_numeric['smoker'].map({'no': 0, 'yes': 1})\n",
    "insurance_numeric['region'] = insurance_numeric['region'].astype('category').cat.codes\n",
    "\n",
    "# Menghitung korelasi Pearson\n",
    "correlation_pearson = insurance_numeric.corr(method='pearson')['charges']\n",
    "print(\"\\nKorelasi Pearson antara tagihan kesehatan dan variabel lainnya:\")\n",
    "print(correlation_pearson)\n",
    "\n",
    "# Menghitung korelasi Kendall\n",
    "correlation_kendall = insurance_numeric.corr(method='kendall')['charges']\n",
    "print(\"\\nKorelasi Kendall antara tagihan kesehatan dan variabel lainnya:\")\n",
    "print(correlation_kendall)"
   ]
  },
  {
   "cell_type": "code",
   "execution_count": 28,
   "metadata": {},
   "outputs": [
    {
     "data": {
      "image/png": "[encoded data removed]",
      "text/plain": [
       "<Figure size 1000x800 with 2 Axes>"
      ]
     },
     "metadata": {},
     "output_type": "display_data"
    }
   ],
   "source": [
    "# Menghitung korelasi Pearson\n",
    "correlation_pearson = insurance_numeric.corr(method='pearson')\n",
    "\n",
    "# Membuat heatmap\n",
    "plt.figure(figsize=(10, 8))\n",
    "sns.heatmap(correlation_pearson, annot=True, cmap='coolwarm', fmt=\".2f\", linewidths=0.5)\n",
    "plt.title(\"Heatmap Korelasi Pearson\")\n",
    "plt.show()"
   ]
  },
  {
   "cell_type": "markdown",
   "metadata": {},
   "source": [
    "\n",
    "Berdasarkan analisis korelasi antara tagihan kesehatan dan variabel lainnya menggunakan metode Pearson dan Kendall, beberapa temuan dapat diambil. Usia pasien memiliki korelasi positif sedang dengan tagihan kesehatan, menunjukkan bahwa semakin tua usia, semakin tinggi tagihan kesehatan yang dikenakan. Jumlah anak juga menunjukkan korelasi positif yang lemah dengan tagihan kesehatan, meskipun tidak begitu signifikan. \n",
    "\n",
    "Yang paling mencolok adalah korelasi yang kuat antara status perokok dan tagihan kesehatan. Pasien yang merokok cenderung memiliki tagihan kesehatan yang lebih tinggi dibandingkan dengan non-perokok. Selain itu, tidak terdapat korelasi yang signifikan antara region tempat tinggal dan tagihan kesehatan.\n",
    "\n",
    "Dengan demikian, dalam konteks ini, faktor yang paling berpengaruh terhadap besarnya tagihan kesehatan adalah kebiasaan merokok, diikuti oleh usia pasien. Meskipun variabel lain seperti jumlah anak, jenis kelamin, indeks massa tubuh, dan region juga berperan, korelasinya tidak begitu kuat dibandingkan dengan status perokok. Namun, perlu diingat bahwa korelasi tidak selalu menunjukkan sebab-akibat, dan faktor-faktor lain juga dapat berperan dalam menentukan besarnya tagihan kesehatan."
   ]
  },
  {
   "cell_type": "markdown",
   "metadata": {},
   "source": [
    "# 5. Pengujian Hipotesis"
   ]
  },
  {
   "cell_type": "markdown",
   "metadata": {},
   "source": [
    "1. Tagihan kesehatan perokok lebih tinggi daripada tagihan kesehatan non perokok:\n",
    "    - Ho : Tidak ada perbedaan signifikan antara tagihan kesehatan perokok dan non perokok.\n",
    "    - H1 : Tagihan kesehatan perokok lebih tinggi daripada tagihan kesehatan non perokok."
   ]
  },
  {
   "cell_type": "code",
   "execution_count": 29,
   "metadata": {},
   "outputs": [
    {
     "name": "stdout",
     "output_type": "stream",
     "text": [
      "Menolak H0 karena nilai p-value < alpha\n",
      "p-value = 0.000 < alpha = 0.050\n",
      "Sehingga dapat disimpulkan bahwa tagihan kesehatan perokok lebih tinggi daripada tagihan kesehatan non perokok.\n"
     ]
    }
   ],
   "source": [
    "tagihan_perokok = insurance[insurance['smoker'] == 'yes']['charges']\n",
    "tagihan_non_perokok = insurance[insurance['smoker'] == 'no']['charges']\n",
    "\n",
    "# Uji statistik menggunakan t-test\n",
    "statistic, p_value = stats.ttest_ind(tagihan_perokok, tagihan_non_perokok)\n",
    "\n",
    "# Level signifikansi (alpha)\n",
    "alpha = 0.05\n",
    "\n",
    "# Kesimpulan\n",
    "if p_value < alpha:\n",
    "    print(\"Menolak H0 karena nilai p-value < alpha\")\n",
    "    print(\"p-value = {:.3f} < alpha = {:.3f}\".format(p_value, alpha))\n",
    "    print(\"Sehingga dapat disimpulkan bahwa tagihan kesehatan perokok lebih tinggi daripada tagihan kesehatan non perokok.\")\n",
    "else:\n",
    "    print(\"Gagal Menolak H0 karena nilai p-value >= alpha\")\n",
    "    print(\"p-value = {:.3f} >= alpha = {:.3f}\".format(p_value, alpha))\n",
    "    print(\"Sehingga tidak dapat disimpulkan adanya perbedaan signifikan.\")"
   ]
  },
  {
   "cell_type": "markdown",
   "metadata": {},
   "source": [
    "Menolak H0 karena nilai p-value (0.000) lebih kecil dari tingkat signifikansi (alpha = 0.050). Sehingga, dapat disimpulkan bahwa tagihan kesehatan perokok lebih tinggi daripada tagihan kesehatan non perokok."
   ]
  },
  {
   "cell_type": "markdown",
   "metadata": {},
   "source": [
    "2. Proporsi perokok laki-laki lebih besar dari perempuan:\n",
    "\n",
    "    - Ho : Tidak ada perbedaan signifikan antara proporsi perokok laki-laki dan perempuan.\n",
    "    - H1 : Proporsi perokok laki-laki lebih besar dari perempuan."
   ]
  },
  {
   "cell_type": "code",
   "execution_count": 30,
   "metadata": {},
   "outputs": [
    {
     "name": "stdout",
     "output_type": "stream",
     "text": [
      "Menolak H0 karena nilai p-value < alpha\n",
      "p-value = 0.005 < alpha = 0.050\n",
      "Sehingga dapat disimpulkan bahwa proporsi perokok laki-laki lebih besar dari perempuan.\n"
     ]
    }
   ],
   "source": [
    "perokok_laki = insurance[(insurance['smoker'] == 'yes') & (insurance['sex'] == 'male')].shape[0]\n",
    "perokok_perempuan = insurance[(insurance['smoker'] == 'yes') & (insurance['sex'] == 'female')].shape[0]\n",
    "total_laki_laki = insurance[insurance['sex'] == 'male'].shape[0]\n",
    "total_perempuan = insurance[insurance['sex'] == 'female'].shape[0]\n",
    "\n",
    "# Uji statistik menggunakan z-test untuk proporsi\n",
    "statistic, p_value = proportions_ztest([perokok_laki, perokok_perempuan], [total_laki_laki, total_perempuan])\n",
    "\n",
    "# Kesimpulan\n",
    "if p_value < alpha:\n",
    "    print(\"Menolak H0 karena nilai p-value < alpha\")\n",
    "    print(\"p-value = {:.3f} < alpha = {:.3f}\".format(p_value, alpha))\n",
    "    print(\"Sehingga dapat disimpulkan bahwa proporsi perokok laki-laki lebih besar dari perempuan.\")\n",
    "else:\n",
    "    print(\"Gagal Menolak H0 karena nilai p-value >= alpha\")\n",
    "    print(\"p-value = {:.3f} >= alpha = {:.3f}\".format(p_value, alpha))\n",
    "    print(\"Sehingga tidak dapat disimpulkan adanya perbedaan signifikan.\")"
   ]
  },
  {
   "cell_type": "markdown",
   "metadata": {},
   "source": [
    "Menolak H0 karena nilai p-value (0.005) lebih kecil daripada tingkat signifikansi (alpha = 0.050). Sehingga dapat disimpulkan bahwa proporsi perokok laki-laki lebih besar dari perempuan."
   ]
  },
  {
   "cell_type": "markdown",
   "metadata": {},
   "source": [
    "3. Tagihan kesehatan dengan BMI di atas 25 lebih tinggi daripada tagihan kesehatan dengan BMI dibawah 25:\n",
    "\n",
    "    - Ho : Tidak ada perbedaan signifikan antara tagihan kesehatan dengan BMI di atas 25 dan di bawah 25.\n",
    "    - H1 : Tagihan kesehatan dengan BMI di atas 25 lebih tinggi daripada tagihan kesehatan dengan BMI di bawah 25."
   ]
  },
  {
   "cell_type": "code",
   "execution_count": 31,
   "metadata": {},
   "outputs": [
    {
     "name": "stdout",
     "output_type": "stream",
     "text": [
      "Menolak H0 karena nilai p-value < alpha\n",
      "p-value = 0.000 < alpha = 0.050\n",
      "Sehingga dapat disimpulkan bahwa tagihan kesehatan dengan BMI di atas 25 lebih tinggi daripada tagihan kesehatan dengan BMI di bawah 25.\n"
     ]
    }
   ],
   "source": [
    "tagihan_bmi_atas_25 = insurance[insurance['bmi'] > 25]['charges']\n",
    "tagihan_bmi_bawah_25 = insurance[insurance['bmi'] <= 25]['charges']\n",
    "\n",
    "# Uji statistik menggunakan t-test\n",
    "statistic, p_value = stats.ttest_ind(tagihan_bmi_atas_25, tagihan_bmi_bawah_25)\n",
    "\n",
    "# Kesimpulan\n",
    "if p_value < alpha:\n",
    "    print(\"Menolak H0 karena nilai p-value < alpha\")\n",
    "    print(\"p-value = {:.3f} < alpha = {:.3f}\".format(p_value, alpha))\n",
    "    print(\"Sehingga dapat disimpulkan bahwa tagihan kesehatan dengan BMI di atas 25 lebih tinggi daripada tagihan kesehatan dengan BMI di bawah 25.\")\n",
    "else:\n",
    "    print(\"Gagal Menolak H0 karena nilai p-value >= alpha\")\n",
    "    print(\"p-value = {:.3f} >= alpha = {:.3f}\".format(p_value, alpha))\n",
    "    print(\"Sehingga tidak dapat disimpulkan adanya perbedaan signifikan.\")"
   ]
  },
  {
   "cell_type": "markdown",
   "metadata": {},
   "source": [
    "Menolak H0 karena nilai p-value (0.000) lebih kecil daripada tingkat signifikansi (alpha = 0.050). Sehingga dapat disimpulkan bahwa tagihan kesehatan dengan BMI di atas 25 lebih tinggi daripada tagihan kesehatan dengan BMI di bawah 25."
   ]
  },
  {
   "cell_type": "code",
   "execution_count": null,
   "metadata": {},
   "outputs": [],
   "source": []
  }
 ],
 "metadata": {
  "kernelspec": {
   "display_name": "Python 3",
   "language": "python",
   "name": "python3"
  },
  "language_info": {
   "codemirror_mode": {
    "name": "ipython",
    "version": 3
   },
   "file_extension": ".py",
   "mimetype": "text/x-python",
   "name": "python",
   "nbconvert_exporter": "python",
   "pygments_lexer": "ipython3",
   "version": "3.11.2"
  }
 },
 "nbformat": 4,
 "nbformat_minor": 2
}
